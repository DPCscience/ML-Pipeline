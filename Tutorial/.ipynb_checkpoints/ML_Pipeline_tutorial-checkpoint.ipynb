{
 "cells": [
  {
   "cell_type": "markdown",
   "metadata": {},
   "source": [
    "# Intro to the ML_Pipeline\n",
    "\n",
    "Here we will walk through how to use scripts in the ML-Pipeline to do machine learning. Check out the [README](https://github.com/ShiuLab/ML-Pipeline/blob/master/README.md) file for a graphical representation of what's going on inside the ML-Pipeline.\n",
    "We are interested in trying to predict grain yield in Zea maize (corn) using information about\n",
    "gene expression levels for 31,237 genes measured on seedlings. We will use these data to \n",
    "predict:\n",
    "- Grain yield for each line (i.e. a regression problem)\n",
    "- If the line was in the top 25% for yield (i.e. a binary classification problem)\n",
    "- If the line was in the top 25%, bottom 25%, or middle 50% for yield (i.e. a multi-class classification problem).\n",
    "\n",
    "\n",
    "### Outline of the tutorial\n",
    "1. Data exploration\n",
    "2. Select instances (i.e. maize lines) to holdout as the testing set\n",
    "3. Regression models \n",
    "4. Binary classification models\n",
    "5. Multi-class classification models\n",
    "6. Additinal Pipeline Features\n",
    "  1. Data-preprocessing\n",
    "  2. Feature selection\n",
    "  3. Applying ML model to unknowns\n",
    "  4. Visualizing your results"
   ]
  },
  {
   "cell_type": "markdown",
   "metadata": {},
   "source": [
    "## Data exploration\n",
    "\n",
    "Here we will check out what our data looks like. "
   ]
  },
  {
   "cell_type": "code",
   "execution_count": 1,
   "metadata": {},
   "outputs": [],
   "source": [
    "import pandas as pd"
   ]
  },
  {
   "cell_type": "code",
   "execution_count": null,
   "metadata": {},
   "outputs": [],
   "source": [
    "d_reg = pd.read_csv('data_regression.txt', sep='\\t', index_col = 0)\n",
    "print(d_reg.head())\n",
    "print(d_reg['yield'].describe())"
   ]
  },
  {
   "cell_type": "code",
   "execution_count": 2,
   "metadata": {},
   "outputs": [
    {
     "name": "stdout",
     "output_type": "stream",
     "text": [
      "             yield  GRMZM2G517408  GRMZM5G824831  GRMZM2G019971  \\\n",
      "04033v           0       4.000622       2.420715       0.379902   \n",
      "33-16            1       3.617671       2.177523       0.414420   \n",
      "38-11            0       3.474531       2.059158       0.220565   \n",
      "4554_inbred      0       4.154001       2.327104       1.649560   \n",
      "4578_inbred      0       3.876912       2.161319       0.794462   \n",
      "\n",
      "             GRMZM2G134393  GRMZM2G149617  GRMZM2G024624  GRMZM2G174574  \\\n",
      "04033v            1.673321       2.178089       0.218431       2.921370   \n",
      "33-16             2.087288       2.328111       0.685711       2.672112   \n",
      "38-11             1.777336       1.911081       0.000000       1.923086   \n",
      "4554_inbred       2.578617       1.925957       0.542716       1.340303   \n",
      "4578_inbred       2.566272       2.169369       0.047206       1.935339   \n",
      "\n",
      "             GRMZM2G412601  GRMZM2G371033  ...  GRMZM2G429714  GRMZM2G125531  \\\n",
      "04033v            3.821798       1.006910  ...       2.937997       3.136064   \n",
      "33-16             3.102621       0.197594  ...       2.492875       3.525225   \n",
      "38-11             2.735017       0.734812  ...       2.478754       3.276937   \n",
      "4554_inbred       4.000860       0.229839  ...       2.845380       3.221931   \n",
      "4578_inbred       3.645419       1.425558  ...       2.592160       3.202978   \n",
      "\n",
      "             GRMZM2G154641  GRMZM2G158496  GRMZM2G082924  GRMZM2G003368  \\\n",
      "04033v            2.279211       2.254448       3.214153       2.003531   \n",
      "33-16             2.028105       2.294453       3.025247       1.280898   \n",
      "38-11             2.559241       1.188042       2.581867       1.869066   \n",
      "4554_inbred       2.583537       1.771426       3.516925       2.002754   \n",
      "4578_inbred       2.768399       2.328836       3.945413       1.640109   \n",
      "\n",
      "             GRMZM2G055917  GRMZM2G084406  GRMZM2G174136  GRMZM2G346839  \n",
      "04033v            2.023021       2.965624       2.793567       0.106836  \n",
      "33-16             1.610659       3.019219       3.569451       0.000000  \n",
      "38-11             2.033939       2.822004       2.764172       0.534746  \n",
      "4554_inbred       2.323461       3.032517       3.541860       0.109644  \n",
      "4578_inbred       2.272249       3.189859       2.984115       0.000000  \n",
      "\n",
      "[5 rows x 201 columns]\n",
      "count    388.000000\n",
      "mean       0.250000\n",
      "std        0.433572\n",
      "min        0.000000\n",
      "25%        0.000000\n",
      "50%        0.000000\n",
      "75%        0.250000\n",
      "max        1.000000\n",
      "Name: yield, dtype: float64\n"
     ]
    }
   ],
   "source": [
    "d_bi = pd.read_csv('data_binary.txt', sep='\\t', index_col = 0)\n",
    "print(d_bi.head())\n",
    "print(d_bi['yield'].describe())"
   ]
  },
  {
   "cell_type": "code",
   "execution_count": null,
   "metadata": {},
   "outputs": [],
   "source": [
    "d_mc = pd.read_csv('data_multiclass.txt', sep='\\t', index_col = 0)\n",
    "print(d_mc.head())\n",
    "print(d_mc['yield'].describe())"
   ]
  },
  {
   "cell_type": "markdown",
   "metadata": {},
   "source": [
    "## 2. Select instances (i.e. maize lines) to holdout as the final testing set\n",
    "\n",
    "In order to find out how well our models are performing, we want to set aside some of our\n",
    "data so we can make a final assessment of how well our model performs without any overfitting. \n",
    "\n",
    "The test_set.py script will do this for you! You'll need to provide your dataset (-df), the number (-n) or percent (-p) of instances you would like to set asside for final testing, what to save the output as (-save), and finally, you'll need to specify what type of model you will be running (-type) as either c/r for classification/regression. This is important because while for regression models, testing instances can be selected randomly, for classification models, we might want either the same proportion or the same number of instances from each class. To get the same number of instances from each class use -n, to get a testing set with equal proportions as your training set use -p."
   ]
  },
  {
   "cell_type": "code",
   "execution_count": null,
   "metadata": {},
   "outputs": [],
   "source": [
    "%run ../test_set.py -df data_regression.txt -type r -p 0.1 -save test_reg"
   ]
  },
  {
   "cell_type": "code",
   "execution_count": 4,
   "metadata": {},
   "outputs": [
    {
     "name": "stdout",
     "output_type": "stream",
     "text": [
      "Holding out 15 instances per class\n",
      "Pulling test set from classes: [0 1]\n",
      "30 instances in test set\n",
      "finished!\n"
     ]
    }
   ],
   "source": [
    "%run ../test_set.py -df data_binary.txt -type c -n 15 -save test_bin -y_name yield"
   ]
  },
  {
   "cell_type": "code",
   "execution_count": null,
   "metadata": {},
   "outputs": [],
   "source": [
    "%run ../test_set.py -df data_multiclass.txt -type c -n 15 -save test_mc -y_name yield"
   ]
  },
  {
   "cell_type": "markdown",
   "metadata": {},
   "source": [
    "By running the code above, you've generated three new files called test_reg, test_bin, and test_mc that should be in your working directory. These files contain the list of lines that will be held out of training and used to "
   ]
  },
  {
   "cell_type": "markdown",
   "metadata": {},
   "source": [
    "# Building Machine Learning Models\n",
    "\n",
    "\n",
    "## 3. Regression models\n",
    "\n",
    "The machine learning algorithms in the ML_Pipeline are implement from [SciKit-Learn](https://scikit-learn.org/stable/), which has excellent resources to learn more about the ins and outs of these algorithms.\n",
    "\n",
    "Regression algorithms available in the pipeline are: Support Vector Regression with linear (SVM), polynomial (SVMpoly), and radial basis function (SVMrbf) kernels, Random Forest (RF), Gradient Tree Boosting (GB), Logistic Regression (LogReg).\n",
    "\n",
    "Note, there are many functions available within the pipeline that are not described in this tutorial. Run python ML_regression.py without any arguments to see more details!\n",
    "\n",
    "We'll start by using RF to predict maize grain yield using the test_reg "
   ]
  },
  {
   "cell_type": "code",
   "execution_count": null,
   "metadata": {},
   "outputs": [],
   "source": [
    "%run ../ML_regression.py -df data_regression.txt -test test_reg -y_name yield \\\n",
    "-alg RF -gs true -gs_reps 2 -n 2"
   ]
  },
  {
   "cell_type": "markdown",
   "metadata": {},
   "source": [
    "**Results Breakdown**\n",
    "\n",
    "First, note that you see two sets of results, first results from the validation set followed by results from the test. If this is your final model, you can report the results from the test set, however, if you are going to compare this model to, say a model using a different algorithm, and then select which algorithm to use for your study, you want to use the validation set results. Basically, you want to avoid making any decisions about the modeling process using the test set results because it may lead to overfitting.\n",
    "\n",
    "For regression models, four performance metrics are reported ([MSE](https://scikit-learn.org/stable/modules/generated/sklearn.metrics.mean_squared_error.html#sklearn.metrics.mean_squared_error), [EVS](https://scikit-learn.org/stable/modules/model_evaluation.html#explained-variance-score), [r2](https://scikit-learn.org/stable/modules/generated/sklearn.metrics.r2_score.html#sklearn.metrics.r2_score), and [PCC](https://docs.scipy.org/doc/numpy/reference/generated/numpy.corrcoef.html) along with the standard deviation (std) and standard error (se) over the replicates (n). In the case of regression models, each replicate is different because different [cross validation folds](https://scikit-learn.org/stable/modules/generated/sklearn.model_selection.cross_val_predict.html) are assigned to each replicate.\n",
    "\n",
    "One parameter that can be adjusted is how many cross validation folds you want to include (-cv). The default and a commonly used fold number is -cv 10, however, if you have a small dataset, using fewer folds (-cv 5) may perform better. In the extreme case, if you have very few instances to train on, you can set -cv equal to the number of instances in your dataset, allowing you to perform leave one out [LOO](https://www.cs.cmu.edu/~schneide/tut5/node42.html) cross validation.\n",
    "\n",
    "**Output files**\n",
    "\n",
    "You will also note that the pipeline generated a number of output files from your run. You can specify a prefix for these files using -save. Here is a breakdown of what you'll find in those files:\n",
    "\n",
    "- **\"_results\":** will give you a summary of the results from the run, similar to what you see when you run the pipeline on the command line.\n",
    "- **\"_scores\":** For each instance you see the original value to predict (Y), the mean and stdev prediction across all replicates, and the predicted Y for each replicate\n",
    "- **\"_imp\":** the importance of each feature in your model. For RF and GTB this score represents the [Gini Index](https://medium.com/the-artificial-impostor/feature-importance-measures-for-tree-models-part-i-47f187c1a2c3), while for LogReg and SVM it is the [coefficient](https://medium.com/@aneesha/visualising-top-features-in-linear-svm-with-scikit-learn-and-matplotlib-3454ab18a14d). SVM with non-linear kernels (i.e. poly, rbf) does not report importance scores.\n",
    "- **\"_GridSearch\":** the average performance metric across the whole possible parameter space tested via the grid search. "
   ]
  },
  {
   "cell_type": "markdown",
   "metadata": {},
   "source": [
    "## 4. Binary classification models\n",
    "\n",
    "All of the algorithms available for regression are also available for classification. The pipeline uses 1 and 0 as the default positive and negative classes, respectively. However, you can specify your own pos/neg classes using -pos POS_string -neg NEG_string. \n",
    "\n",
    "\n",
    "Lets try using SVM with a linear kernel to predict if a line is in the top 25% (pos) or bottom 75% (neg) for yield."
   ]
  },
  {
   "cell_type": "code",
   "execution_count": 5,
   "metadata": {},
   "outputs": [
    {
     "name": "stdout",
     "output_type": "stream",
     "text": [
      "Removing test instances to apply model on later...\n",
      "Snapshot of data being used:\n",
      "             Class  GRMZM2G517408  GRMZM5G824831  GRMZM2G019971  GRMZM2G134393\n",
      "04033v           0       0.785540       0.944968       0.184912       0.309971\n",
      "33-16            1       0.584857       0.850034       0.201713       0.515018\n",
      "38-11            0       0.509846       0.803828       0.107357       0.361492\n",
      "4554_inbred      0       0.865917       0.908425       0.802900       0.758384\n",
      "4578_inbred      0       0.720710       0.843708       0.386693       0.752269\n",
      "CLASSES: [0 1]\n",
      "POS: 1 <class 'int'>\n",
      "NEG: 0 <class 'int'>\n",
      "Balanced dataset will include 96 instances of each class\n",
      "\n",
      "\n",
      "===>  Grid search started  <===\n",
      "Round 1 of 2\n",
      "Round 2 of 2\n",
      "Parameter sweep time: 4.833020 seconds\n",
      "Parameters selected: Kernel=Linear, C=0.01\n",
      "Grid search complete. Time: 4.869936 seconds\n",
      "\n",
      "\n",
      "===>  ML Pipeline started  <===\n",
      "  Round 1 of 2\n"
     ]
    },
    {
     "ename": "ValueError",
     "evalue": "Found array with 0 sample(s) (shape=(0, 200)) while a minimum of 1 is required.",
     "output_type": "error",
     "traceback": [
      "\u001b[0;31m---------------------------------------------------------------------------\u001b[0m",
      "\u001b[0;31mValueError\u001b[0m                                Traceback (most recent call last)",
      "\u001b[0;32m~/Documents/GitHub/ML-Pipeline/ML_classification.py\u001b[0m in \u001b[0;36m<module>\u001b[0;34m\u001b[0m\n\u001b[1;32m    653\u001b[0m \u001b[0;34m\u001b[0m\u001b[0m\n\u001b[1;32m    654\u001b[0m \u001b[0;32mif\u001b[0m \u001b[0m__name__\u001b[0m \u001b[0;34m==\u001b[0m \u001b[0;34m'__main__'\u001b[0m\u001b[0;34m:\u001b[0m\u001b[0;34m\u001b[0m\u001b[0;34m\u001b[0m\u001b[0m\n\u001b[0;32m--> 655\u001b[0;31m         \u001b[0mmain\u001b[0m\u001b[0;34m(\u001b[0m\u001b[0;34m)\u001b[0m\u001b[0;34m\u001b[0m\u001b[0;34m\u001b[0m\u001b[0m\n\u001b[0m",
      "\u001b[0;32m~/Documents/GitHub/ML-Pipeline/ML_classification.py\u001b[0m in \u001b[0;36mmain\u001b[0;34m()\u001b[0m\n\u001b[1;32m    332\u001b[0m                 \u001b[0;31m# Run ML algorithm on balanced datasets.\u001b[0m\u001b[0;34m\u001b[0m\u001b[0;34m\u001b[0m\u001b[0;34m\u001b[0m\u001b[0m\n\u001b[1;32m    333\u001b[0m                 \u001b[0;32mif\u001b[0m \u001b[0margs\u001b[0m\u001b[0;34m.\u001b[0m\u001b[0mtest\u001b[0m\u001b[0;34m!=\u001b[0m\u001b[0;34m''\u001b[0m\u001b[0;34m:\u001b[0m\u001b[0;34m\u001b[0m\u001b[0;34m\u001b[0m\u001b[0m\n\u001b[0;32m--> 334\u001b[0;31m                         \u001b[0mresult\u001b[0m\u001b[0;34m,\u001b[0m\u001b[0mcurrent_scores\u001b[0m\u001b[0;34m,\u001b[0m\u001b[0mresult_test\u001b[0m \u001b[0;34m=\u001b[0m \u001b[0mML\u001b[0m\u001b[0;34m.\u001b[0m\u001b[0mfun\u001b[0m\u001b[0;34m.\u001b[0m\u001b[0mBuildModel_Apply_Performance\u001b[0m\u001b[0;34m(\u001b[0m\u001b[0mdf1\u001b[0m\u001b[0;34m,\u001b[0m \u001b[0mclf\u001b[0m\u001b[0;34m,\u001b[0m \u001b[0margs\u001b[0m\u001b[0;34m.\u001b[0m\u001b[0mcv_num\u001b[0m\u001b[0;34m,\u001b[0m \u001b[0mdf_notSel\u001b[0m\u001b[0;34m,\u001b[0m \u001b[0mapply_unk\u001b[0m\u001b[0;34m,\u001b[0m \u001b[0mdf_unknowns\u001b[0m\u001b[0;34m,\u001b[0m \u001b[0mtest_df\u001b[0m\u001b[0;34m,\u001b[0m \u001b[0mclasses\u001b[0m\u001b[0;34m,\u001b[0m \u001b[0margs\u001b[0m\u001b[0;34m.\u001b[0m\u001b[0mpos\u001b[0m\u001b[0;34m,\u001b[0m \u001b[0mNEG\u001b[0m\u001b[0;34m,\u001b[0m \u001b[0mj\u001b[0m\u001b[0;34m,\u001b[0m \u001b[0margs\u001b[0m\u001b[0;34m.\u001b[0m\u001b[0malg\u001b[0m\u001b[0;34m,\u001b[0m\u001b[0margs\u001b[0m\u001b[0;34m.\u001b[0m\u001b[0mthreshold_test\u001b[0m\u001b[0;34m)\u001b[0m\u001b[0;34m\u001b[0m\u001b[0;34m\u001b[0m\u001b[0m\n\u001b[0m\u001b[1;32m    335\u001b[0m                         \u001b[0mresults_test\u001b[0m\u001b[0;34m.\u001b[0m\u001b[0mappend\u001b[0m\u001b[0;34m(\u001b[0m\u001b[0mresult_test\u001b[0m\u001b[0;34m)\u001b[0m\u001b[0;34m\u001b[0m\u001b[0;34m\u001b[0m\u001b[0m\n\u001b[1;32m    336\u001b[0m                 \u001b[0;32melse\u001b[0m\u001b[0;34m:\u001b[0m\u001b[0;34m\u001b[0m\u001b[0;34m\u001b[0m\u001b[0m\n",
      "\u001b[0;32m~/Documents/GitHub/ML-Pipeline/ML_functions.py\u001b[0m in \u001b[0;36mBuildModel_Apply_Performance\u001b[0;34m(df, clf, cv_num, df_notSel, apply_unk, df_unknowns, test_df, classes, POS, NEG, j, ALG, THRSHD_test)\u001b[0m\n\u001b[1;32m    355\u001b[0m                         \u001b[0munk_proba\u001b[0m \u001b[0;34m=\u001b[0m \u001b[0mclf\u001b[0m\u001b[0;34m.\u001b[0m\u001b[0mpredict_proba\u001b[0m\u001b[0;34m(\u001b[0m\u001b[0mdf_unknowns\u001b[0m\u001b[0;34m.\u001b[0m\u001b[0mdrop\u001b[0m\u001b[0;34m(\u001b[0m\u001b[0;34m[\u001b[0m\u001b[0;34m'Class'\u001b[0m\u001b[0;34m]\u001b[0m\u001b[0;34m,\u001b[0m \u001b[0maxis\u001b[0m\u001b[0;34m=\u001b[0m\u001b[0;36m1\u001b[0m\u001b[0;34m)\u001b[0m\u001b[0;34m)\u001b[0m\u001b[0;34m\u001b[0m\u001b[0;34m\u001b[0m\u001b[0m\n\u001b[1;32m    356\u001b[0m                 \u001b[0;32mif\u001b[0m \u001b[0;32mnot\u001b[0m \u001b[0misinstance\u001b[0m\u001b[0;34m(\u001b[0m\u001b[0mtest_df\u001b[0m\u001b[0;34m,\u001b[0m \u001b[0mstr\u001b[0m\u001b[0;34m)\u001b[0m\u001b[0;34m:\u001b[0m\u001b[0;34m\u001b[0m\u001b[0;34m\u001b[0m\u001b[0m\n\u001b[0;32m--> 357\u001b[0;31m                         \u001b[0mtest_proba\u001b[0m \u001b[0;34m=\u001b[0m \u001b[0mclf\u001b[0m\u001b[0;34m.\u001b[0m\u001b[0mpredict_proba\u001b[0m\u001b[0;34m(\u001b[0m\u001b[0mtest_df\u001b[0m\u001b[0;34m.\u001b[0m\u001b[0mdrop\u001b[0m\u001b[0;34m(\u001b[0m\u001b[0;34m[\u001b[0m\u001b[0;34m'Class'\u001b[0m\u001b[0;34m]\u001b[0m\u001b[0;34m,\u001b[0m \u001b[0maxis\u001b[0m\u001b[0;34m=\u001b[0m\u001b[0;36m1\u001b[0m\u001b[0;34m)\u001b[0m\u001b[0;34m)\u001b[0m\u001b[0;34m\u001b[0m\u001b[0;34m\u001b[0m\u001b[0m\n\u001b[0m\u001b[1;32m    358\u001b[0m                         \u001b[0mtest_pred\u001b[0m \u001b[0;34m=\u001b[0m \u001b[0mclf\u001b[0m\u001b[0;34m.\u001b[0m\u001b[0mpredict\u001b[0m\u001b[0;34m(\u001b[0m\u001b[0mtest_df\u001b[0m\u001b[0;34m.\u001b[0m\u001b[0mdrop\u001b[0m\u001b[0;34m(\u001b[0m\u001b[0;34m[\u001b[0m\u001b[0;34m'Class'\u001b[0m\u001b[0;34m]\u001b[0m\u001b[0;34m,\u001b[0m \u001b[0maxis\u001b[0m\u001b[0;34m=\u001b[0m\u001b[0;36m1\u001b[0m\u001b[0;34m)\u001b[0m\u001b[0;34m)\u001b[0m\u001b[0;34m\u001b[0m\u001b[0;34m\u001b[0m\u001b[0m\n\u001b[1;32m    359\u001b[0m \u001b[0;34m\u001b[0m\u001b[0m\n",
      "\u001b[0;32m~/anaconda3/envs/ML_Pipeline/lib/python3.7/site-packages/sklearn/calibration.py\u001b[0m in \u001b[0;36mpredict_proba\u001b[0;34m(self, X)\u001b[0m\n\u001b[1;32m    217\u001b[0m         \u001b[0mcheck_is_fitted\u001b[0m\u001b[0;34m(\u001b[0m\u001b[0mself\u001b[0m\u001b[0;34m,\u001b[0m \u001b[0;34m[\u001b[0m\u001b[0;34m\"classes_\"\u001b[0m\u001b[0;34m,\u001b[0m \u001b[0;34m\"calibrated_classifiers_\"\u001b[0m\u001b[0;34m]\u001b[0m\u001b[0;34m)\u001b[0m\u001b[0;34m\u001b[0m\u001b[0;34m\u001b[0m\u001b[0m\n\u001b[1;32m    218\u001b[0m         X = check_array(X, accept_sparse=['csc', 'csr', 'coo'],\n\u001b[0;32m--> 219\u001b[0;31m                         force_all_finite=False)\n\u001b[0m\u001b[1;32m    220\u001b[0m         \u001b[0;31m# Compute the arithmetic mean of the predictions of the calibrated\u001b[0m\u001b[0;34m\u001b[0m\u001b[0;34m\u001b[0m\u001b[0;34m\u001b[0m\u001b[0m\n\u001b[1;32m    221\u001b[0m         \u001b[0;31m# classifiers\u001b[0m\u001b[0;34m\u001b[0m\u001b[0;34m\u001b[0m\u001b[0;34m\u001b[0m\u001b[0m\n",
      "\u001b[0;32m~/anaconda3/envs/ML_Pipeline/lib/python3.7/site-packages/sklearn/utils/validation.py\u001b[0m in \u001b[0;36mcheck_array\u001b[0;34m(array, accept_sparse, accept_large_sparse, dtype, order, copy, force_all_finite, ensure_2d, allow_nd, ensure_min_samples, ensure_min_features, warn_on_dtype, estimator)\u001b[0m\n\u001b[1;32m    580\u001b[0m                              \u001b[0;34m\" minimum of %d is required%s.\"\u001b[0m\u001b[0;34m\u001b[0m\u001b[0;34m\u001b[0m\u001b[0m\n\u001b[1;32m    581\u001b[0m                              % (n_samples, shape_repr, ensure_min_samples,\n\u001b[0;32m--> 582\u001b[0;31m                                 context))\n\u001b[0m\u001b[1;32m    583\u001b[0m \u001b[0;34m\u001b[0m\u001b[0m\n\u001b[1;32m    584\u001b[0m     \u001b[0;32mif\u001b[0m \u001b[0mensure_min_features\u001b[0m \u001b[0;34m>\u001b[0m \u001b[0;36m0\u001b[0m \u001b[0;32mand\u001b[0m \u001b[0marray\u001b[0m\u001b[0;34m.\u001b[0m\u001b[0mndim\u001b[0m \u001b[0;34m==\u001b[0m \u001b[0;36m2\u001b[0m\u001b[0;34m:\u001b[0m\u001b[0;34m\u001b[0m\u001b[0;34m\u001b[0m\u001b[0m\n",
      "\u001b[0;31mValueError\u001b[0m: Found array with 0 sample(s) (shape=(0, 200)) while a minimum of 1 is required."
     ]
    }
   ],
   "source": [
    "%run ../ML_classification -df data_binary.txt -test test_bin -y_name yield \\\n",
    "-alg SVM -gs true -gs_reps 2 -n 2"
   ]
  },
  {
   "cell_type": "markdown",
   "metadata": {},
   "source": [
    "**Results Breakdown**\n",
    "\n",
    "First, note that before the grid search started running, the model told you what your positive and negative class strings were and how many instances would be in each class for each replicate. This is an important feature in the ML-Pipeline. Training a ML classifier with unbalanced data, or data with different numbers of each instance, can cause your model to be biased toward predicting the more numerous class. For example, if you train a model using 100 positive examples and 100,000 negative examples, your model would do well to just call instance negative! Therefore, in this pipeline, the larger classes are randomly downsampled to generate balanced datasets. To ensure we still utilize as much data as possible, this downsampling is done independelty for each replicate (-n). \n",
    "\n",
    "A number of performance metrics are included for binary classification models, including [AUC-ROC](https://scikit-learn.org/stable/modules/generated/sklearn.metrics.roc_auc_score.html), [F-measure](https://scikit-learn.org/stable/modules/generated/sklearn.metrics.f1_score.html), [AUC-PRC](https://scikit-learn.org/stable/modules/generated/sklearn.metrics.average_precision_score.html), [accuracy](https://scikit-learn.org/stable/modules/generated/sklearn.metrics.accuracy_score.html), and [precision](https://scikit-learn.org/stable/modules/generated/sklearn.metrics.precision_score.html#sklearn.metrics.precision_score).\n",
    "\n",
    "**Output files**\n",
    "\n",
    "The classficiation pipeline generates similar output as the regression pipeline, although there are a few notable differences. \n",
    "\n",
    "- **\"_scores\":** Here, the predicted probability (pp) scores are reported for each replicate. The pp score represents how confident the model was in its classification, where a pp=1 means it is certain the instance is positive and pp=0 means it is certain the instance is negative. For each replicate, an instance is classified as pos if pp > threshold, which is defined as value between 0.001-0.999 that maximises the F-measure. While the performance metrics generated by the pipeline are calcuated for each replicate independently, we want to be able to make a final statement about which instances were called as positive and which were called as negative. You'll find those results in this file. To make this final call we calculated the mean threshold and the mean pp for each instance and called the instance pos if the mean pp > mean threshold. \n",
    "- **\"_results\":** Here you will see an overview of the results similar to what is printed in the command line. However, for classification problems you will see two additional sections: the Mean Balanced Confusion Matrix (CM and the Final Full CM. The mean balanced CM was generated by taking the average number of true positives (TP), true negatives (TN), false positives (FP), and false negatives (FN) across all replicate (which have been downsampled randomly to be balanced). The Final Full CM represents the final TP, TN, FP, and FN results from the final pos/neg classifications (descirbed above in _scores) for all instances in your input dataset. \n",
    "- **\"_BalancedID\":** Each row lists the instances that were included in each replicate (-n) after downsampling. "
   ]
  },
  {
   "cell_type": "markdown",
   "metadata": {},
   "source": [
    "## 5. Multi-class classification models\n",
    "\n",
    "All of the algorithms available for regression and binary classification are also available for multiclass classification. There are no default classes for multiclass models, so you will have to specity what classes are including using (-cl_train)\n",
    "\n",
    "\n",
    "Lets try using SVM with a linear kernel to predict if a line is in the top 25% (2) or middle 50% (1) or bottom 25% (0) for yield."
   ]
  },
  {
   "cell_type": "code",
   "execution_count": null,
   "metadata": {},
   "outputs": [],
   "source": [
    "%run ../ML_classification.py -df data_multiclass.txt -test test_mc -y_name yield \\\n",
    "-cl_train top,middle,bottom -alg SVM -gs true -gs_reps 2 -n 2 "
   ]
  },
  {
   "cell_type": "markdown",
   "metadata": {},
   "source": [
    "**Results Breakdown**\n",
    "\n",
    "The output for multi-class classification models is similar to binary classification models with a few key differences. \n",
    "\n",
    "*An important note: For binary classification using balanced datasets, you would expect a ML model that was just randomly guessing the class to be correct ~50% of the time, because of this the random expectation for performance metrics like AUC-ROC and the F-measure are 0.50. This is not the case for multi-class predictions. Using our model above as an example, a ML model that was randomly guessing top, middle, or bottom, would only be correct ~33% of the time. That means models performing with >33% accuracy are performing better than random expectation.*\n",
    "\n",
    "There are two types of performance metrics for multi-class models, commonly referred to as macro and micro metrics. Micro performance metrics are generated for each class in your ML problem. For example, from our model we will get three micro F-measures (F1-top, F1-middle, F1-bottom). These micro scores are available in the *_results* output file. Macro performance metrics are generated by taking the average of all the micro performance metrics. These scores are what are printed in the command line. "
   ]
  },
  {
   "cell_type": "markdown",
   "metadata": {},
   "source": [
    "# Additional ML-Pipeline Features\n",
    "\n",
    "## 6.A Data Preprocessing\n",
    "\n",
    "Coming soon - imputing NAs, one-hot encoding, etc."
   ]
  },
  {
   "cell_type": "markdown",
   "metadata": {
    "collapsed": true
   },
   "source": [
    "## 6.B Feature Selection\n",
    "\n",
    "While one major advantage of ML approaches is that they are robust when the number of features is very large, there are cases where removing unuseful features or selecting only the best features may help you better answer your question. One common issue we see with using feature selection for machine learning is using the whole dataset to select the best features, which results in overfitting [see here](https://www.nature.com/articles/srep10312). The ML-Pipeline allows you to perform feature selection within the training-validation-testing scheme, thereby avoiding overfitting. \n",
    "\n",
    "There are many strategies for feature selection out there. The ML-Pipeline allows you to perform feature selection using:\n",
    "- Enrichement (Fisher's Exact Test: fet) (for binary classification and binary features only)\n",
    "- Random Forest (rf)\n",
    "- L1/LASSO \n",
    "- Relief (Need to install [ReBATE](https://github.com/EpistasisLab/ReBATE) to run)\n",
    "- Bayesian LASSO (bl)(for regression only)\n",
    "- Bayes A (ba)(for regression only)\n",
    "- Elastic Net (EN)(for regression only)\n",
    "- ridge regression (rrblup)(for regression only)\n",
    "- Random\n",
    "\n",
    "For some algorithms (e.g. RF, rrBLUP, relief, random), the user specifies the number of features to be selected (-n 10), while other algorithms (e.g. LASSO, FET) select as many features that meet a criteria. For example, FET selects all features enriched in your positive class using the p-value cutoff you designate (-p 0.05) and LASSO selects all features that aren't assigned zero weight from the linear model, with the user able to specify the amount of sparcity (-p). For more information about what parameters are required for each algorithm, run Feature_Selection.py with no arguments:"
   ]
  },
  {
   "cell_type": "code",
   "execution_count": null,
   "metadata": {},
   "outputs": [],
   "source": [
    "%run ../Feature_Selection.py"
   ]
  },
  {
   "cell_type": "markdown",
   "metadata": {},
   "source": [
    "First, let's use the LASSO algorithm to select the best feature for classifying the top 25% (1) from bottom 75% (0) of lines. Running LASSO on a classification problem, the sparcity parameter is required, where the smaller the number the fewer features will be selected. \n",
    "\n",
    "We will try using -p 0.1 and -p 0.02..."
   ]
  },
  {
   "cell_type": "code",
   "execution_count": null,
   "metadata": {},
   "outputs": [],
   "source": [
    "%run ../Feature_Selection.py -alg lasso -df data_binary.txt -n 10 -y_name yield -type c -p 0.1 -save feat_lasso_0.1\n",
    "%run ../Feature_Selection.py -alg lasso -df data_binary.txt -n 10 -y_name yield -type c -p 0.02 -save feat_lasso_0.02"
   ]
  },
  {
   "cell_type": "markdown",
   "metadata": {},
   "source": [
    "Using sparcity = 0.01 (-p 0.01), we selected 63 features and lowering the sparcity (-p 0.02) drove that down to the top 15 features. You should now see a new file for each of these runs that contains a list of the features selected. We can use that directly as input into the ML pipeline!\n",
    "\n",
    "We'll run the exact same binary classification pipeline as above, except this time we willl specify to only use the features from our feature selection (-feat)"
   ]
  },
  {
   "cell_type": "code",
   "execution_count": null,
   "metadata": {},
   "outputs": [],
   "source": [
    "%run ../ML_classification -df data_binary.txt -test test_bin -y_name yield \\\n",
    "-alg SVM -gs true -gs_reps 2 -n 2 -feat feat_lasso_0.02 -save data_binary_SVM_top15"
   ]
  },
  {
   "cell_type": "markdown",
   "metadata": {},
   "source": [
    "When we ran SVM to classify lines using all 200 transcript features we got an F-measure (F1) = 0.747, so you can see that we did nearly as well just using the top 15 features. "
   ]
  },
  {
   "cell_type": "markdown",
   "metadata": {},
   "source": [
    "## 6.C Applying ML model to unknowns\n",
    "\n",
    "Because the ML-Pipeline generates many many models to make one prediction (e.g. 100 replicates with 10-fold cross valiation is like having 1,000 seperate models) the pipeline does not \"save\" the models. However, you can still use the pipeline to apply your trained model to unknown instances. Unknown instances must have the same features as your training data. In this tutorial for example, we would need to know transcript levels for all of the same genes, but we would not need to know the yield before hand.\n",
    "\n",
    "Start by simply adding your unknown instances to the input dataframe. In the column that has the value or class (Y/Class) for the known instances, put a different identifier (e.g. \"unknown\").\n",
    "\n",
    "For this example, we've generated a version of the regression dataset (data_regression_unk.txt) where the first 20 lines were designated as unknowns.\n"
   ]
  },
  {
   "cell_type": "code",
   "execution_count": null,
   "metadata": {},
   "outputs": [],
   "source": [
    "d_reg = pd.read_csv('data_regression_unk.txt', sep='\\t', index_col = 0)\n",
    "print(d_reg.ix[:8,:4])"
   ]
  },
  {
   "cell_type": "markdown",
   "metadata": {},
   "source": [
    "Now, we can run the ML-Pipeline again, but this time specifying that we want to apply the models to the unknowns (-apply unknown)"
   ]
  },
  {
   "cell_type": "code",
   "execution_count": null,
   "metadata": {},
   "outputs": [],
   "source": [
    "%run ../ML_regression.py -df data_regression_unk.txt -test test_reg -y_name yield \\\n",
    "-alg RF -gs true -gs_reps 2 -n 2 -apply unknown"
   ]
  },
  {
   "cell_type": "markdown",
   "metadata": {},
   "source": [
    "To see the predicted yield for those five lines, check out the \"_scores\" file that was just generated. "
   ]
  },
  {
   "cell_type": "markdown",
   "metadata": {},
   "source": [
    "## 6.D Visualizing Your Results\n",
    "\n",
    "There are a number of vizualization tools available in the ML-Pipeline. We will describe just some of them here!\n",
    "\n",
    "**Generate Plots while training and testing your models**\n",
    "\n",
    "1. One optional parameter for both the ML_classification.py and ML_regression.py pipelines is -plots T/F. The default is False, but if you want to generate some plots directly during your ML run, set -plots T. For classification you will get an [AUC-ROC plot](https://towardsdatascience.com/understanding-auc-roc-curve-68b2303cc9c5) and an [AUC-PRC plot](https://classeval.wordpress.com/introduction/introduction-to-the-precision-recall-plot/). \n",
    "\n",
    "2. In the ML_classification.py pipeline, another plotting option is to auto-generate a [confusion matrix heatmap](https://towardsdatascience.com/understanding-confusion-matrix-a9ad42dcfd62) (-cm), just set -cm T\n",
    "\n",
    "**Generate plots post-model building**\n",
    "1. **ML_plots.py** allows you to generate AUC-ROC and AUC-PRC plots from multiple runs, for example if you wanted to compare performance of different algorithms or using different sets of features. For example, we can compare the results from our classification model with all 200 features with the one generated using the top 15 features:\n",
    "\n",
    "```\n",
    "ML_plots.py [SAVE_NAME] [POS] [NEG] [M1_name] [PATH_M1_scores] [M2_name] [PATH_M2_scores]... [Mn_name] [PATH_Mn_scores]\n",
    "```"
   ]
  },
  {
   "cell_type": "code",
   "execution_count": null,
   "metadata": {},
   "outputs": [],
   "source": [
    "%run ../ML_plots.py binary_plots 1 0 all data_binary.txt_SVM_scores.txt top15 data_binary_SVM_top15_scores.txt"
   ]
  },
  {
   "cell_type": "markdown",
   "metadata": {},
   "source": [
    "2. **compare_classifiers.py** takes in the results from different classification models and generates a list of which instances were correctly and incorrectly predicted by each model and generates a venn diagram showing the overlap.\n",
    "\n",
    "```\n",
    "ML_plots.py -scores PATH_M1_scores,PATH_M2_scores,...,PATH_Mn_scores -ids M1_name,M2_name,...,Mn_name -save [SAVE_NAME]\n",
    "```"
   ]
  },
  {
   "cell_type": "code",
   "execution_count": null,
   "metadata": {},
   "outputs": [],
   "source": [
    "%run ../compare_classifiers.py  -scores data_binary.txt_SVM_scores.txt,data_binary_SVM_top15_scores.txt -ids all,top15 -save binary_comp"
   ]
  },
  {
   "cell_type": "markdown",
   "metadata": {},
   "source": [
    "These results indicate that our models using all and the top 15 features both predicted 88 instances correctly as positive, but only 82 of those instances were the same for both models, meaning they each uniquely correctly classified 6 instances as positive."
   ]
  },
  {
   "cell_type": "markdown",
   "metadata": {},
   "source": [
    "3. **plot_predprob.py**"
   ]
  }
 ],
 "metadata": {
  "kernelspec": {
   "display_name": "Python 3",
   "language": "python",
   "name": "python3"
  },
  "language_info": {
   "codemirror_mode": {
    "name": "ipython",
    "version": 3
   },
   "file_extension": ".py",
   "mimetype": "text/x-python",
   "name": "python",
   "nbconvert_exporter": "python",
   "pygments_lexer": "ipython3",
   "version": "3.7.2"
  }
 },
 "nbformat": 4,
 "nbformat_minor": 2
}
