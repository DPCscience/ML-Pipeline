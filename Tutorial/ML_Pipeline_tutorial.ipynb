{
 "cells": [
  {
   "cell_type": "markdown",
   "metadata": {},
   "source": [
    "# Intro to the ML_Pipeline\n",
    "\n",
    "Here we will walk through how to use scripts in the ML_Pipeline to do machine learning.\n",
    "We are interested in trying to predict grain yield in Zea maize (corn) using information about\n",
    "gene expression levels for 31,237 genes measured on seedlings. We will use these data to \n",
    "predict:\n",
    "1. Grain yield for each line (i.e. a regression problem)\n",
    "2. If the line was in the top 25% for yield (i.e. a binary classification problem)\n",
    "3. If the line was in the top 25%, bottom 25%, or middle 50% for yield (i.e. a multi-class classification problem).\n"
   ]
  },
  {
   "cell_type": "code",
   "execution_count": null,
   "metadata": {},
   "outputs": [],
   "source": []
  },
  {
   "cell_type": "code",
   "execution_count": 5,
   "metadata": {},
   "outputs": [
    {
     "name": "stdout",
     "output_type": "stream",
     "text": [
      "Holding out 10.0 percent\n",
      "Pulling holdout set from classes: [1 0]\n",
      "['AT2G25140', 'ATCG00180', 'AT1G64320', 'AT3G61220', 'AT2G47670', 'AT4G14590', 'AT5G07640', 'AT3G11600', 'AT3G04350', 'AT1G48750', 'AT2G16580', 'AT1G62510', 'AT4G18350', 'AT1G80320', 'AT1G16705', 'AT1G17744', 'AT3G19270', 'AT2G02350', 'AT1G56600', 'AT3G14200', 'AT5G06550', 'AT4G27850', 'AT4G13195', 'AT1G67120', 'AT5G58470', 'AT4G01450', 'AT5G44572', 'AT1G04570']\n",
      "['AT2G25140', 'ATCG00180', 'AT1G64320', 'AT3G61220', 'AT2G47670', 'AT4G14590', 'AT5G07640', 'AT3G11600', 'AT3G04350', 'AT1G48750', 'AT2G16580', 'AT1G62510', 'AT4G18350', 'AT1G80320', 'AT1G16705', 'AT1G17744', 'AT3G19270', 'AT2G02350', 'AT1G56600', 'AT3G14200', 'AT5G06550', 'AT4G27850', 'AT4G13195', 'AT1G67120', 'AT5G58470', 'AT4G01450', 'AT5G44572', 'AT1G04570', 'AT5G57360', 'AT4G28652', 'AT4G15990', 'AT2G43700', 'AT2G04622', 'AT5G41420', 'AT2G28290', 'AT1G08060', 'AT2G01560', 'AT5G64010', 'AT5G53930', 'AT1G79350', 'AT4G22860', 'AT2G18969', 'AT5G52930', 'AT2G43260', 'AT2G37700', 'AT1G62970', 'AT1G61750', 'AT5G11470', 'AT2G41400', 'AT3G20110', 'AT3G62750', 'AT2G13126', 'AT3G02350', 'AT5G36805', 'AT1G11990', 'AT1G66610', 'AT2G30380', 'AT2G44470', 'AT3G11990', 'AT5G06150', 'AT5G14620', 'AT3G25200', 'AT5G63070', 'AT2G15325', 'AT1G54940', 'AT2G23060', 'AT1G76952', 'AT4G03000', 'AT5G35470', 'AT5G23470', 'AT1G44478', 'AT1G26530', 'AT5G20370', 'AT1G70020', 'AT3G50320', 'AT5G46540', 'AT2G34980', 'AT2G34355', 'AT4G12310', 'AT5G43110', 'AT2G25605', 'AT1G58260', 'AT3G15120', 'AT5G39820', 'AT2G13350', 'AT1G62280', 'AT1G03390', 'AT3G49420', 'AT2G03955', 'AT5G66900', 'AT5G57330', 'AT5G20970', 'AT1G65630', 'AT5G48300', 'AT3G30320', 'AT1G32928', 'AT3G18840', 'AT1G52905', 'AT2G46493', 'AT5G54240', 'AT1G03880', 'AT4G22990', 'AT4G08035', 'AT5G36720', 'AT2G31140', 'AT2G43940', 'AT2G07505', 'AT1G49990', 'AT4G10420', 'AT1G43690', 'AT3G04680', 'AT2G33720', 'AT1G22750', 'AT4G07515', 'AT3G43310', 'AT2G02270', 'AT3G60870', 'AT5G17610', 'AT1G68800', 'AT5G37250', 'AT5G48420', 'AT5G52600', 'AT5G12180', 'AT3G52790', 'AT1G29630', 'AT4G26170', 'AT5G35525', 'AT1G20690', 'AT4G27690', 'AT1G29170', 'AT2G37230', 'AT4G02180', 'AT4G00910', 'AT1G12260', 'AT1G35467', 'AT5G15360', 'AT5G62160', 'AT1G26680', 'AT2G04860', 'AT5G56330', 'AT1G62670', 'AT3G49645', 'AT2G18970', 'AT3G07950', 'AT5G44220', 'AT5G24920', 'AT3G43840', 'AT1G79740', 'AT5G55940', 'AT5G54148', 'AT5G65130', 'AT1G17940', 'AT1G60460', 'AT5G45580', 'AT3G07070', 'AT1G34650', 'AT5G23170', 'AT4G38930', 'AT1G78590', 'AT1G27380', 'AT1G32415', 'AT5G02800', 'AT4G20920', 'AT1G34500', 'AT1G65270', 'AT2G31280', 'AT1G78030', 'AT1G58725', 'AT1G61830', 'AT5G42053', 'AT5G41290', 'AT1G08600', 'AT1G26630', 'AT4G11400', 'AT5G52545', 'AT4G39838', 'AT4G32010', 'AT2G09795', 'AT2G34380', 'AT2G28170', 'AT3G59070', 'AT1G57570', 'AT1G15770', 'AT2G33090', 'AT2G31210', 'AT3G14172', 'AT1G68238', 'AT3G46070', 'AT5G66260', 'AT2G35280', 'AT3G45670', 'AT2G01500', 'AT3G27800', 'AT4G39050', 'AT2G15318', 'AT1G48900', 'AT3G56600', 'AT2G40280', 'AT4G38120', 'AT4G10410', 'AT5G06390', 'AT3G25700', 'AT5G64270', 'AT1G71450', 'AT2G27900', 'AT5G09600', 'AT4G18195', 'AT1G55790', 'AT1G56100', 'AT5G22130', 'AT1G76830', 'AT5G56210', 'AT3G58877', 'AT1G43020', 'AT3G15130', 'AT4G01180', 'AT5G35603', 'AT5G46140', 'AT4G23650', 'AT1G67195', 'AT1G14688', 'AT5G50080', 'AT1G06020', 'AT1G21327', 'ATMG00220', 'AT5G42660', 'AT4G19980', 'AT5G48350', 'AT3G32904', 'AT1G80730', 'AT1G04510', 'AT3G25727', 'AT1G24880', 'AT5G47140', 'AT1G55675', 'AT5G23280', 'AT5G40900', 'AT2G42885', 'AT1G28300', 'AT1G77122', 'AT5G35338', 'AT1G72010', 'AT1G53880', 'AT1G02780', 'AT1G12380', 'ATCG00500', 'AT1G53640', 'AT5G41370', 'AT4G14165', 'AT5G36970', 'AT2G44220', 'AT4G21840', 'AT1G63210', 'AT3G52690', 'AT1G35625', 'AT2G07747', 'AT1G74140', 'AT1G35537', 'AT5G47980', 'AT1G35545', 'AT1G51020', 'AT3G29636', 'AT4G06634', 'AT3G50050', 'AT1G64480', 'AT5G42955', 'AT5G18350', 'AT3G18777', 'AT4G28110', 'AT3G58090', 'AT1G22403', 'AT4G10840', 'AT1G27260', 'AT5G41940', 'AT3G50130', 'AT3G49115', 'AT5G02920', 'AT5G23510', 'AT2G38260', 'AT5G17110', 'AT3G52280', 'AT1G29550', 'AT1G60995', 'AT2G07673', 'AT4G33565', 'AT4G05000', 'AT3G18282', 'AT2G01780', 'AT3G45650', 'AT2G47570', 'AT5G45990', 'AT5G07350', 'AT5G04460', 'AT3G24420', 'AT5G06730', 'AT1G09157', 'AT2G33320', 'AT5G48543', 'AT4G03220', 'AT4G14720', 'AT1G17345', 'AT1G63060', 'AT1G72530', 'AT2G31150', 'AT1G64540', 'AT1G52660', 'AT2G13900', 'AT5G17150', 'AT4G01580', 'AT1G78160', 'AT2G26135', 'AT2G30800', 'AT5G53960', 'AT1G16960', 'AT4G17060', 'AT1G73410', 'AT4G00020', 'AT5G32460', 'AT3G12420', 'AT5G50620', 'AT1G24148', 'AT5G05240', 'AT5G46170', 'AT3G51120', 'AT1G07728', 'AT4G29930', 'AT4G04650', 'AT2G24010', 'AT3G24513', 'AT3G58820', 'AT3G26930', 'AT5G04560', 'AT3G56660', 'AT2G25770', 'AT2G32350', 'AT3G59160', 'AT3G11130', 'AT2G44160', 'AT1G77100', 'AT3G45720', 'AT1G07840', 'AT1G24190', 'AT5G15890', 'AT2G25540']\n",
      "344 instances in holdout\n",
      "finished!\n"
     ]
    }
   ],
   "source": [
    "%run holdout.py -df Tutorial/example_df_binary.txt -type c -p 0.1"
   ]
  },
  {
   "cell_type": "code",
   "execution_count": null,
   "metadata": {},
   "outputs": [],
   "source": []
  },
  {
   "cell_type": "code",
   "execution_count": null,
   "metadata": {},
   "outputs": [],
   "source": []
  },
  {
   "cell_type": "code",
   "execution_count": null,
   "metadata": {},
   "outputs": [],
   "source": []
  },
  {
   "cell_type": "code",
   "execution_count": null,
   "metadata": {},
   "outputs": [],
   "source": []
  }
 ],
 "metadata": {
  "kernelspec": {
   "display_name": "Python 3",
   "language": "python",
   "name": "python3"
  },
  "language_info": {
   "codemirror_mode": {
    "name": "ipython",
    "version": 3
   },
   "file_extension": ".py",
   "mimetype": "text/x-python",
   "name": "python",
   "nbconvert_exporter": "python",
   "pygments_lexer": "ipython3",
   "version": "3.7.2"
  }
 },
 "nbformat": 4,
 "nbformat_minor": 2
}
