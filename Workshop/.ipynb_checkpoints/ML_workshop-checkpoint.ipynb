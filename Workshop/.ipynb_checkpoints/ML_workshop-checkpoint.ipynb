{
 "cells": [
  {
   "cell_type": "markdown",
   "metadata": {},
   "source": [
    "# Machine Learning Workshop\n",
    "\n",
    "Here we will walk through an example of a machine learning workflow following five steps:\n",
    "\n",
    "1. Formulating a question\n",
    "2. Data collection/cleaning\n",
    "3. Feature engineering\n",
    "4. Model selection and hyperparameter tuning\n",
    "5. Model application\n",
    "\n",
    "For more information on the Shiu Lab's ML pipeline, check out the [README](https://github.com/ShiuLab/ML-Pipeline/blob/master/README.md).\n"
   ]
  },
  {
   "cell_type": "markdown",
   "metadata": {},
   "source": [
    "### Set up\n",
    "\n",
    "Check out this [guide](https://github.com/ShiuLab/ML-Pipeline/blob/master/Tutorial/README.md) to learn how to set up Jupyter notebook and the software needed to run the Shiu Lab's ML pipeline.\n"
   ]
  },
  {
   "cell_type": "code",
   "execution_count": 2,
   "metadata": {},
   "outputs": [],
   "source": [
    "import pandas as pd"
   ]
  },
  {
   "cell_type": "markdown",
   "metadata": {},
   "source": [
    "## 1. Formulating a question\n",
    "\n",
    "We are interested in specialized metabolism in tomato. n we predict if a gene is involved in general or specialized metabolism?\n",
    "\n",
    "\n",
    "\n"
   ]
  },
  {
   "cell_type": "markdown",
   "metadata": {},
   "source": [
    "## 2. Data collection/cleaning\n",
    "\n",
    "Steps:\n",
    "   - Load in and look at the data\n",
    "   - Remove or impute n/a values\n",
    "   - Split into training/validation/testing\n"
   ]
  },
  {
   "cell_type": "code",
   "execution_count": 4,
   "metadata": {},
   "outputs": [
    {
     "name": "stdout",
     "output_type": "stream",
     "text": [
      "(2873, 564)\n",
      "                Class  Exo_endo_phos  Transferase  Ins134_P3_kin  SQS_PSY  \\\n",
      "NP_001233822  Slyc-GM              0            0              0        0   \n",
      "NP_001233827  Slyc-GM              0            0              0        0   \n",
      "NP_001234041  Slyc-GM              0            0              0        0   \n",
      "XP_004237250  Slyc-GM              0            0              0        0   \n",
      "XP_004239833  Slyc-GM              0            0              0        0   \n",
      "\n",
      "              GHMP_kinases_N  Lycopene_cycl  Peptidase_S10  Chal_sti_synt_N  \\\n",
      "NP_001233822               0              0              0                0   \n",
      "NP_001233827               0              0              0                0   \n",
      "NP_001234041               0              0              0                0   \n",
      "XP_004237250               0              0              0                0   \n",
      "XP_004239833               0              0              0                0   \n",
      "\n",
      "              His_Phos_2      ...        Polysacc_synt_2  Lysine_decarbox  \\\n",
      "NP_001233822           0      ...                      0                0   \n",
      "NP_001233827           0      ...                      0                0   \n",
      "NP_001234041           0      ...                      0                0   \n",
      "XP_004237250           0      ...                      0                0   \n",
      "XP_004239833           0      ...                      0                0   \n",
      "\n",
      "              Exostosin  Glyco_hydro_28  Lipase_3  Wax2_C  Pabies_medKaKs  \\\n",
      "NP_001233822          0               0         0       0        0.181237   \n",
      "NP_001233827          0               0         0       0        0.161359   \n",
      "NP_001234041          0               0         0       0        0.047075   \n",
      "XP_004237250          0               0         0       0        0.161359   \n",
      "XP_004239833          0               0         0       0        0.161359   \n",
      "\n",
      "              Glutaredoxin  Osativa_medKaKs  Abhydrolase_6  \n",
      "NP_001233822             0         0.605524              0  \n",
      "NP_001233827             0         0.212226              0  \n",
      "NP_001234041             0         0.056096              0  \n",
      "XP_004237250             0         0.212226              0  \n",
      "XP_004239833             0         0.212226              0  \n",
      "\n",
      "[5 rows x 564 columns]\n",
      "count        2873\n",
      "unique          3\n",
      "top       Slyc-GM\n",
      "freq         2319\n",
      "Name: Class, dtype: object\n"
     ]
    }
   ],
   "source": [
    "## Look at the data\n",
    "\n",
    "d = pd.read_csv('data.txt', sep='\\t', index_col = 0)\n",
    "\n",
    "print(d.shape)\n",
    "print(d.head())\n",
    "print(d['Class'].describe())"
   ]
  },
  {
   "cell_type": "markdown",
   "metadata": {},
   "source": [
    "## 3. Feature engineering\n",
    "\n",
    "In order to find out how well our models are performing, we want to set aside some of our\n",
    "data so we can make a final assessment of how well our model performs without any overfitting. \n",
    "\n",
    "The test_set.py script will do this for you! You'll need to provide your dataset (-df), the number (-n) or percent (-p) of instances you would like to set asside for final testing, what to save the output as (-save), and finally, you'll need to specify what type of model you will be running (-type) as either c/r for classification/regression. This is important because while for regression models, testing instances can be selected randomly, for classification models, we might want either the same proportion or the same number of instances from each class. To get the same number of instances from each class use -n, to get a testing set with equal proportions as your training set use -p."
   ]
  },
  {
   "cell_type": "code",
   "execution_count": 17,
   "metadata": {},
   "outputs": [
    {
     "name": "stdout",
     "output_type": "stream",
     "text": [
      "Holding out 10.0 percent\n",
      "Pulling test set from classes: ['special' 'general']\n",
      "285 instances in test set\n",
      "finished!\n"
     ]
    }
   ],
   "source": [
    "%run ../test_set.py -df workshop_data.txt -type c -p 0.1 -save test_workshop.txt -y_name Class"
   ]
  },
  {
   "cell_type": "markdown",
   "metadata": {},
   "source": [
    "By running the code above, you've generated three new files called test_reg, test_bin, and test_mc that should be in your working directory. These files contain the list of lines that will be held out of training and used to "
   ]
  },
  {
   "cell_type": "markdown",
   "metadata": {},
   "source": [
    "# Building Machine Learning Models\n",
    "\n",
    "\n",
    "## 3. Regression models\n",
    "\n",
    "The machine learning algorithms in the ML_Pipeline are implement from [SciKit-Learn](https://scikit-learn.org/stable/), which has excellent resources to learn more about the ins and outs of these algorithms.\n",
    "\n",
    "Regression algorithms available in the pipeline are: Support Vector Regression with linear (SVM), polynomial (SVMpoly), and radial basis function (SVMrbf) kernels, Random Forest (RF), Gradient Tree Boosting (GB), Logistic Regression (LogReg).\n",
    "\n",
    "Note, there are many functions available within the pipeline that are not described in this tutorial. Run python ML_regression.py without any arguments to see more details!\n",
    "\n",
    "We'll start by using RF to predict maize grain yield using the test_reg "
   ]
  },
  {
   "cell_type": "code",
   "execution_count": null,
   "metadata": {},
   "outputs": [],
   "source": [
    "%run ../ML_regression.py -df data_regression.txt -test test_reg -y_name yield \\\n",
    "-alg RF -gs true -gs_reps 2 -n 2"
   ]
  },
  {
   "cell_type": "markdown",
   "metadata": {},
   "source": [
    "**Results Breakdown**\n",
    "\n",
    "First, note that you see two sets of results, first results from the validation set followed by results from the test. If this is your final model, you can report the results from the test set, however, if you are going to compare this model to, say a model using a different algorithm, and then select which algorithm to use for your study, you want to use the validation set results. Basically, you want to avoid making any decisions about the modeling process using the test set results because it may lead to overfitting.\n",
    "\n",
    "For regression models, four performance metrics are reported ([MSE](https://scikit-learn.org/stable/modules/generated/sklearn.metrics.mean_squared_error.html#sklearn.metrics.mean_squared_error), [EVS](https://scikit-learn.org/stable/modules/model_evaluation.html#explained-variance-score), [r2](https://scikit-learn.org/stable/modules/generated/sklearn.metrics.r2_score.html#sklearn.metrics.r2_score), and [PCC](https://docs.scipy.org/doc/numpy/reference/generated/numpy.corrcoef.html) along with the standard deviation (std) and standard error (se) over the replicates (n). In the case of regression models, each replicate is different because different [cross validation folds](https://scikit-learn.org/stable/modules/generated/sklearn.model_selection.cross_val_predict.html) are assigned to each replicate.\n",
    "\n",
    "One parameter that can be adjusted is how many cross validation folds you want to include (-cv). The default and a commonly used fold number is -cv 10, however, if you have a small dataset, using fewer folds (-cv 5) may perform better. In the extreme case, if you have very few instances to train on, you can set -cv equal to the number of instances in your dataset, allowing you to perform leave one out [LOO](https://www.cs.cmu.edu/~schneide/tut5/node42.html) cross validation.\n",
    "\n",
    "**Output files**\n",
    "\n",
    "You will also note that the pipeline generated a number of output files from your run. You can specify a prefix for these files using -save. Here is a breakdown of what you'll find in those files:\n",
    "\n",
    "- **\"_results\":** will give you a summary of the results from the run, similar to what you see when you run the pipeline on the command line.\n",
    "- **\"_scores\":** For each instance you see the original value to predict (Y), the mean and stdev prediction across all replicates, and the predicted Y for each replicate\n",
    "- **\"_imp\":** the importance of each feature in your model. For RF and GTB this score represents the [Gini Index](https://medium.com/the-artificial-impostor/feature-importance-measures-for-tree-models-part-i-47f187c1a2c3), while for LogReg and SVM it is the [coefficient](https://medium.com/@aneesha/visualising-top-features-in-linear-svm-with-scikit-learn-and-matplotlib-3454ab18a14d). SVM with non-linear kernels (i.e. poly, rbf) does not report importance scores.\n",
    "- **\"_GridSearch\":** the average performance metric across the whole possible parameter space tested via the grid search. "
   ]
  },
  {
   "cell_type": "markdown",
   "metadata": {},
   "source": [
    "## 4. Binary classification models\n",
    "\n",
    "All of the algorithms available for regression are also available for classification. The pipeline uses 1 and 0 as the default positive and negative classes, respectively. However, you can specify your own pos/neg classes using -pos POS_string -neg NEG_string. \n",
    "\n",
    "\n",
    "Lets try using SVM with a linear kernel to predict if a line is in the top 25% (pos) or bottom 75% (neg) for yield."
   ]
  },
  {
   "cell_type": "code",
   "execution_count": 1,
   "metadata": {
    "scrolled": true
   },
   "outputs": [
    {
     "name": "stdout",
     "output_type": "stream",
     "text": [
      "Removing test instances to apply model on later...\n",
      "Snapshot of data being used:\n",
      "                Class  develop_GM_corr  develop_SM_corr  hormone_GM_PCC  \\\n",
      "gene                                                                      \n",
      "NP_001233775  special         0.822095         0.671447        0.982332   \n",
      "NP_001233777  general         0.545194         0.530639        0.554770   \n",
      "NP_001233795  general         0.985653         0.503259        0.731449   \n",
      "NP_001233801  general         0.629842         0.569752        0.832155   \n",
      "NP_001233808  general         0.672884         0.705346        0.757951   \n",
      "\n",
      "              hormone_SM_corr  \n",
      "gene                           \n",
      "NP_001233775         0.723917  \n",
      "NP_001233777         0.495987  \n",
      "NP_001233795         0.550562  \n",
      "NP_001233801         0.613162  \n",
      "NP_001233808         0.634029  \n",
      "CLASSES: ['general' 'special']\n",
      "POS: special <class 'str'>\n",
      "NEG: general <class 'str'>\n",
      "Balanced dataset will include 478 instances of each class\n",
      "\n",
      "\n",
      "===>  Grid search started  <===\n",
      "Round 1 of 3\n",
      "Round 2 of 3\n",
      "Round 3 of 3\n",
      "Parameter sweep time: 27.346922 seconds\n",
      "Parameters selected: Kernel=Linear, C=0.5\n",
      "Grid search complete. Time: 27.399905 seconds\n",
      "\n",
      "\n",
      "===>  ML Pipeline started  <===\n",
      "  Round 1 of 10\n",
      "  Round 2 of 10\n",
      "  Round 3 of 10\n",
      "  Round 4 of 10\n",
      "  Round 5 of 10\n",
      "  Round 6 of 10\n",
      "  Round 7 of 10\n",
      "  Round 8 of 10\n",
      "  Round 9 of 10\n",
      "  Round 10 of 10\n",
      "ML Pipeline time: 59.314174 seconds\n"
     ]
    },
    {
     "name": "stderr",
     "output_type": "stream",
     "text": [
      "/Users/cbazodi/Documents/GitHub/ML-Pipeline/ML_classification.py:375: FutureWarning: elementwise comparison failed; returning scalar instead, but in the future will perform elementwise comparison\n",
      "  if r['importances'] != 'na':\n"
     ]
    },
    {
     "name": "stdout",
     "output_type": "stream",
     "text": [
      "\n",
      "\n",
      "===>  ML Results  <===\n",
      "\n",
      "Validation Set Scores\n",
      "Accuracy: 0.835042 (+/- stdev 0.010780)\n",
      "F1: 0.839307 (+/- stdev 0.010255)\n",
      "AUC-ROC: 0.905691 (+/- stdev 0.008408)\n",
      "AUC-PRC: 0.903411 (+/- stdev 0.011496)\n",
      "\n",
      "\n",
      "Test Set Scores:\n",
      "Precision: 0.842857\n",
      "Accuracy: 0.851464\n",
      "F1: 0.853306\n",
      "AUC-ROC: 0.927798 (+/- stdev 0.004696)\n",
      "AUC-PRC: 0.806293 (+/- stdev 0.025476)\n",
      "finished!\n"
     ]
    }
   ],
   "source": [
    "%run ../ML_classification -df workshop_data.txt -test test_workshop.txt -cl_train special,general -y_name Class -alg SVM -gs true -gs_reps 3 -n 10"
   ]
  },
  {
   "cell_type": "markdown",
   "metadata": {},
   "source": [
    "**Results Breakdown**\n",
    "\n",
    "First, note that before the grid search started running, the model told you what your positive and negative class strings were and how many instances would be in each class for each replicate. This is an important feature in the ML-Pipeline. Training a ML classifier with unbalanced data, or data with different numbers of each instance, can cause your model to be biased toward predicting the more numerous class. For example, if you train a model using 100 positive examples and 100,000 negative examples, your model would do well to just call instance negative! Therefore, in this pipeline, the larger classes are randomly downsampled to generate balanced datasets. To ensure we still utilize as much data as possible, this downsampling is done independelty for each replicate (-n). \n",
    "\n",
    "A number of performance metrics are included for binary classification models, including [AUC-ROC](https://scikit-learn.org/stable/modules/generated/sklearn.metrics.roc_auc_score.html), [F-measure](https://scikit-learn.org/stable/modules/generated/sklearn.metrics.f1_score.html), [AUC-PRC](https://scikit-learn.org/stable/modules/generated/sklearn.metrics.average_precision_score.html), [accuracy](https://scikit-learn.org/stable/modules/generated/sklearn.metrics.accuracy_score.html), and [precision](https://scikit-learn.org/stable/modules/generated/sklearn.metrics.precision_score.html#sklearn.metrics.precision_score).\n",
    "\n",
    "**Output files**\n",
    "\n",
    "The classficiation pipeline generates similar output as the regression pipeline, although there are a few notable differences. \n",
    "\n",
    "- **\"_scores\":** Here, the predicted probability (pp) scores are reported for each replicate. The pp score represents how confident the model was in its classification, where a pp=1 means it is certain the instance is positive and pp=0 means it is certain the instance is negative. For each replicate, an instance is classified as pos if pp > threshold, which is defined as value between 0.001-0.999 that maximises the F-measure. While the performance metrics generated by the pipeline are calcuated for each replicate independently, we want to be able to make a final statement about which instances were called as positive and which were called as negative. You'll find those results in this file. To make this final call we calculated the mean threshold and the mean pp for each instance and called the instance pos if the mean pp > mean threshold. \n",
    "- **\"_results\":** Here you will see an overview of the results similar to what is printed in the command line. However, for classification problems you will see two additional sections: the Mean Balanced Confusion Matrix (CM and the Final Full CM. The mean balanced CM was generated by taking the average number of true positives (TP), true negatives (TN), false positives (FP), and false negatives (FN) across all replicate (which have been downsampled randomly to be balanced). The Final Full CM represents the final TP, TN, FP, and FN results from the final pos/neg classifications (descirbed above in _scores) for all instances in your input dataset. \n",
    "- **\"_BalancedID\":** Each row lists the instances that were included in each replicate (-n) after downsampling. "
   ]
  },
  {
   "cell_type": "markdown",
   "metadata": {},
   "source": [
    "## 5. Multi-class classification models\n",
    "\n",
    "All of the algorithms available for regression and binary classification are also available for multiclass classification. There are no default classes for multiclass models, so you will have to specity what classes are including using (-cl_train)\n",
    "\n",
    "\n",
    "Lets try using SVM with a linear kernel to predict if a line is in the top 25% (2) or middle 50% (1) or bottom 25% (0) for yield."
   ]
  },
  {
   "cell_type": "code",
   "execution_count": null,
   "metadata": {},
   "outputs": [],
   "source": [
    "%run ../ML_classification.py -df data_multiclass.txt -test test_mc -y_name yield \\\n",
    "-cl_train top,middle,bottom -alg SVM -gs true -gs_reps 2 -n 2 "
   ]
  },
  {
   "cell_type": "markdown",
   "metadata": {},
   "source": [
    "**Results Breakdown**\n",
    "\n",
    "The output for multi-class classification models is similar to binary classification models with a few key differences. \n",
    "\n",
    "*An important note: For binary classification using balanced datasets, you would expect a ML model that was just randomly guessing the class to be correct ~50% of the time, because of this the random expectation for performance metrics like AUC-ROC and the F-measure are 0.50. This is not the case for multi-class predictions. Using our model above as an example, a ML model that was randomly guessing top, middle, or bottom, would only be correct ~33% of the time. That means models performing with >33% accuracy are performing better than random expectation.*\n",
    "\n",
    "There are two types of performance metrics for multi-class models, commonly referred to as macro and micro metrics. Micro performance metrics are generated for each class in your ML problem. For example, from our model we will get three micro F-measures (F1-top, F1-middle, F1-bottom). These micro scores are available in the *_results* output file. Macro performance metrics are generated by taking the average of all the micro performance metrics. These scores are what are printed in the command line. "
   ]
  },
  {
   "cell_type": "markdown",
   "metadata": {},
   "source": [
    "# Additional ML-Pipeline Features\n",
    "\n",
    "## 6.A Data Preprocessing\n",
    "\n",
    "Coming soon - imputing NAs, one-hot encoding, etc."
   ]
  },
  {
   "cell_type": "markdown",
   "metadata": {
    "collapsed": true
   },
   "source": [
    "## 6.B Feature Selection\n",
    "\n",
    "While one major advantage of ML approaches is that they are robust when the number of features is very large, there are cases where removing unuseful features or selecting only the best features may help you better answer your question. One common issue we see with using feature selection for machine learning is using the whole dataset to select the best features, which results in overfitting [see here](https://www.nature.com/articles/srep10312). The ML-Pipeline allows you to perform feature selection within the training-validation-testing scheme, thereby avoiding overfitting. \n",
    "\n",
    "There are many strategies for feature selection out there. The ML-Pipeline allows you to perform feature selection using:\n",
    "- Enrichement (Fisher's Exact Test: fet) (for binary classification and binary features only)\n",
    "- Random Forest (rf)\n",
    "- L1/LASSO \n",
    "- Relief (Need to install [ReBATE](https://github.com/EpistasisLab/ReBATE) to run)\n",
    "- Bayesian LASSO (bl)(for regression only)\n",
    "- Bayes A (ba)(for regression only)\n",
    "- Elastic Net (EN)(for regression only)\n",
    "- ridge regression (rrblup)(for regression only)\n",
    "- Random\n",
    "\n",
    "For some algorithms (e.g. RF, rrBLUP, relief, random), the user specifies the number of features to be selected (-n 10), while other algorithms (e.g. LASSO, FET) select as many features that meet a criteria. For example, FET selects all features enriched in your positive class using the p-value cutoff you designate (-p 0.05) and LASSO selects all features that aren't assigned zero weight from the linear model, with the user able to specify the amount of sparcity (-p). For more information about what parameters are required for each algorithm, run Feature_Selection.py with no arguments:"
   ]
  },
  {
   "cell_type": "code",
   "execution_count": null,
   "metadata": {},
   "outputs": [],
   "source": [
    "%run ../Feature_Selection.py"
   ]
  },
  {
   "cell_type": "markdown",
   "metadata": {},
   "source": [
    "First, let's use the LASSO algorithm to select the best feature for classifying the top 25% (1) from bottom 75% (0) of lines. Running LASSO on a classification problem, the sparcity parameter is required, where the smaller the number the fewer features will be selected. \n",
    "\n",
    "We will try using -p 0.1 and -p 0.02..."
   ]
  },
  {
   "cell_type": "code",
   "execution_count": null,
   "metadata": {},
   "outputs": [],
   "source": [
    "%run ../Feature_Selection.py -alg lasso -df data_binary.txt -n 10 -y_name yield -type c -p 0.1 -save feat_lasso_0.1\n",
    "%run ../Feature_Selection.py -alg lasso -df data_binary.txt -n 10 -y_name yield -type c -p 0.02 -save feat_lasso_0.02"
   ]
  },
  {
   "cell_type": "markdown",
   "metadata": {},
   "source": [
    "Using sparcity = 0.01 (-p 0.01), we selected 63 features and lowering the sparcity (-p 0.02) drove that down to the top 15 features. You should now see a new file for each of these runs that contains a list of the features selected. We can use that directly as input into the ML pipeline!\n",
    "\n",
    "We'll run the exact same binary classification pipeline as above, except this time we willl specify to only use the features from our feature selection (-feat)"
   ]
  },
  {
   "cell_type": "code",
   "execution_count": null,
   "metadata": {},
   "outputs": [],
   "source": [
    "%run ../ML_classification -df data_binary.txt -test test_bin -y_name yield \\\n",
    "-alg SVM -gs true -gs_reps 2 -n 2 -feat feat_lasso_0.02 -save data_binary_SVM_top15"
   ]
  },
  {
   "cell_type": "markdown",
   "metadata": {},
   "source": [
    "When we ran SVM to classify lines using all 200 transcript features we got an F-measure (F1) = 0.747, so you can see that we did nearly as well just using the top 15 features. "
   ]
  },
  {
   "cell_type": "markdown",
   "metadata": {},
   "source": [
    "## 6.C Applying ML model to unknowns\n",
    "\n",
    "Because the ML-Pipeline generates many many models to make one prediction (e.g. 100 replicates with 10-fold cross valiation is like having 1,000 seperate models) the pipeline does not \"save\" the models. However, you can still use the pipeline to apply your trained model to unknown instances. Unknown instances must have the same features as your training data. In this tutorial for example, we would need to know transcript levels for all of the same genes, but we would not need to know the yield before hand.\n",
    "\n",
    "Start by simply adding your unknown instances to the input dataframe. In the column that has the value or class (Y/Class) for the known instances, put a different identifier (e.g. \"unknown\").\n",
    "\n",
    "For this example, we've generated a version of the regression dataset (data_regression_unk.txt) where the first 20 lines were designated as unknowns.\n"
   ]
  },
  {
   "cell_type": "code",
   "execution_count": null,
   "metadata": {},
   "outputs": [],
   "source": [
    "d_reg = pd.read_csv('data_regression_unk.txt', sep='\\t', index_col = 0)\n",
    "print(d_reg.ix[:8,:4])"
   ]
  },
  {
   "cell_type": "markdown",
   "metadata": {},
   "source": [
    "Now, we can run the ML-Pipeline again, but this time specifying that we want to apply the models to the unknowns (-apply unknown)"
   ]
  },
  {
   "cell_type": "code",
   "execution_count": null,
   "metadata": {},
   "outputs": [],
   "source": [
    "%run ../ML_regression.py -df data_regression_unk.txt -test test_reg -y_name yield \\\n",
    "-alg RF -gs true -gs_reps 2 -n 2 -apply unknown"
   ]
  },
  {
   "cell_type": "markdown",
   "metadata": {},
   "source": [
    "To see the predicted yield for those five lines, check out the \"_scores\" file that was just generated. "
   ]
  },
  {
   "cell_type": "markdown",
   "metadata": {},
   "source": [
    "## 6.D Visualizing Your Results\n",
    "\n",
    "There are a number of vizualization tools available in the ML-Pipeline. We will describe just some of them here!\n",
    "\n",
    "**Generate Plots while training and testing your models**\n",
    "\n",
    "1. One optional parameter for both the ML_classification.py and ML_regression.py pipelines is -plots T/F. The default is False, but if you want to generate some plots directly during your ML run, set -plots T. For classification you will get an [AUC-ROC plot](https://towardsdatascience.com/understanding-auc-roc-curve-68b2303cc9c5) and an [AUC-PRC plot](https://classeval.wordpress.com/introduction/introduction-to-the-precision-recall-plot/). \n",
    "\n",
    "2. In the ML_classification.py pipeline, another plotting option is to auto-generate a [confusion matrix heatmap](https://towardsdatascience.com/understanding-confusion-matrix-a9ad42dcfd62) (-cm), just set -cm T\n",
    "\n",
    "**Generate plots post-model building**\n",
    "1. **ML_plots.py** allows you to generate AUC-ROC and AUC-PRC plots from multiple runs, for example if you wanted to compare performance of different algorithms or using different sets of features. For example, we can compare the results from our classification model with all 200 features with the one generated using the top 15 features:\n",
    "\n",
    "```\n",
    "ML_plots.py [SAVE_NAME] [POS] [NEG] [M1_name] [PATH_M1_scores] [M2_name] [PATH_M2_scores]... [Mn_name] [PATH_Mn_scores]\n",
    "```"
   ]
  },
  {
   "cell_type": "code",
   "execution_count": null,
   "metadata": {},
   "outputs": [],
   "source": [
    "%run ../ML_plots.py binary_plots 1 0 all data_binary.txt_SVM_scores.txt top15 data_binary_SVM_top15_scores.txt"
   ]
  },
  {
   "cell_type": "markdown",
   "metadata": {},
   "source": [
    "2. **compare_classifiers.py** takes in the results from different classification models and generates a list of which instances were correctly and incorrectly predicted by each model and generates a venn diagram showing the overlap.\n",
    "\n",
    "```\n",
    "ML_plots.py -scores PATH_M1_scores,PATH_M2_scores,...,PATH_Mn_scores -ids M1_name,M2_name,...,Mn_name -save [SAVE_NAME]\n",
    "```"
   ]
  },
  {
   "cell_type": "code",
   "execution_count": null,
   "metadata": {},
   "outputs": [],
   "source": [
    "%run ../compare_classifiers.py  -scores data_binary.txt_SVM_scores.txt,data_binary_SVM_top15_scores.txt -ids all,top15 -save binary_comp"
   ]
  },
  {
   "cell_type": "markdown",
   "metadata": {},
   "source": [
    "These results indicate that our models using all and the top 15 features both predicted 88 instances correctly as positive, but only 82 of those instances were the same for both models, meaning they each uniquely correctly classified 6 instances as positive."
   ]
  },
  {
   "cell_type": "markdown",
   "metadata": {},
   "source": [
    "3. **plot_predprob.py**"
   ]
  }
 ],
 "metadata": {
  "kernelspec": {
   "display_name": "Python 3",
   "language": "python",
   "name": "python3"
  },
  "language_info": {
   "codemirror_mode": {
    "name": "ipython",
    "version": 3
   },
   "file_extension": ".py",
   "mimetype": "text/x-python",
   "name": "python",
   "nbconvert_exporter": "python",
   "pygments_lexer": "ipython3",
   "version": "3.7.1"
  }
 },
 "nbformat": 4,
 "nbformat_minor": 2
}
